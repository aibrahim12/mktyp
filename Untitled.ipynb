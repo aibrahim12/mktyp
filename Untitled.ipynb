{
 "cells": [
  {
   "cell_type": "markdown",
   "metadata": {},
   "source": [
    "# MKTYP--- Abdu notebook\n"
   ]
  },
  {
   "cell_type": "code",
   "execution_count": 2,
   "metadata": {},
   "outputs": [
    {
     "name": "stdout",
     "output_type": "stream",
     "text": [
      "happy birthday1\n",
      "happy birthday2\n",
      "happy birthday3\n",
      "happy birthday4\n",
      "happy birthday5\n",
      "happy birthday6\n",
      "happy birthday7\n",
      "happy birthday8\n",
      "happy birthday9\n",
      "happy birthday10\n",
      "happy birthday11\n",
      "happy birthday12\n",
      "happy birthday13\n",
      "happy birthday14\n",
      "happy birthday15\n",
      "happy birthday16\n",
      "happy birthday17\n",
      "happy birthday18\n",
      "happy birthday19\n"
     ]
    }
   ],
   "source": [
    "i=1\n",
    "while (i<=19):\n",
    "    print (\"happy birthday\" +str(i))\n",
    "    i=i+1"
   ]
  },
  {
   "cell_type": "code",
   "execution_count": null,
   "metadata": {},
   "outputs": [],
   "source": []
  }
 ],
 "metadata": {
  "kernelspec": {
   "display_name": "Python 3",
   "language": "python",
   "name": "python3"
  },
  "language_info": {
   "codemirror_mode": {
    "name": "ipython",
    "version": 3
   },
   "file_extension": ".py",
   "mimetype": "text/x-python",
   "name": "python",
   "nbconvert_exporter": "python",
   "pygments_lexer": "ipython3",
   "version": "3.7.0"
  }
 },
 "nbformat": 4,
 "nbformat_minor": 2
}
